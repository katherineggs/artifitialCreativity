{
 "cells": [
  {
   "cell_type": "code",
   "execution_count": 39,
   "metadata": {},
   "outputs": [],
   "source": [
    "import pronouncing\n",
    "import random"
   ]
  },
  {
   "cell_type": "code",
   "execution_count": 40,
   "metadata": {},
   "outputs": [],
   "source": [
    "userInput = \"leaves\""
   ]
  },
  {
   "cell_type": "code",
   "execution_count": 41,
   "metadata": {},
   "outputs": [],
   "source": [
    "def generate_text(previous_text, lenght= 8):\n",
    "  \"\"\"\n",
    "  Generates coherent text given some previous text\n",
    "  args:\n",
    "    previous_text(str): text to be used for context of the new text\n",
    "  return:\n",
    "    str: new text, coherent with previous_text of a set size (8 words)\n",
    "  \"\"\"\n",
    "  generated_text = ' from the vine ; I could never be your lover, it wouldn\\'t fool me ; And I\\'m not a fool, I\\'ve heard some stories ; Show me that picture, ooh ; Ooh, ooh-ooh ;  ; And I don\\'t care what you do, you\\'re hardly a friend ; Maybe I\\'ll just be burned ; But it\\'s too late for me ; I\\'m in agony ; I hope you\\'re well ; Love burns to ashes with you ; But it\\'s too late for me ;  ; I\\'m the only one who would take my life ; It\\'s too late for me ; And I\\'m the only one who would take my lifeYou might also like\\n\" I wanna hold you when it\\'s none of your business ; I wanna hold you when it\\'s none of your business ; I wanna hold you when it\\'s none of your to do ; I wanna hold you until the morning when'\n",
    "\n",
    "  clean = cleanTextGen(previous_text, generated_text)\n",
    "  return previous_text + ' ' + clean + ';'"
   ]
  },
  {
   "cell_type": "code",
   "execution_count": 42,
   "metadata": {},
   "outputs": [],
   "source": [
    "def cleanTextGen(prev, generatedText):\n",
    "    text = generatedText.replace(prev,\"\",1)\n",
    "    textList = text.split(\";\")\n",
    "    while(True):\n",
    "        textL = textList.pop(0)\n",
    "        if textL.replace(';', '').strip() != '':\n",
    "            break\n",
    "    textList = textL\n",
    "    return textList.strip()"
   ]
  },
  {
   "cell_type": "code",
   "execution_count": 43,
   "metadata": {},
   "outputs": [],
   "source": [
    "def generate_options(word):\n",
    "    options = pronouncing.rhymes(word.strip(\";\"))\n",
    "    return options"
   ]
  },
  {
   "cell_type": "code",
   "execution_count": 44,
   "metadata": {},
   "outputs": [],
   "source": [
    "def pick_matching(previous_text, options):\n",
    "  \"\"\"\n",
    "  Picks from a list of strings the best matching option for the given history_text\n",
    "  args:\n",
    "    previous_text(str): text that comes before given options.\n",
    "    options(list): list of words/phrases from which to pick one.\n",
    "  returns:\n",
    "    str: choice from the list of options\n",
    "  \"\"\"\n",
    "  return random.choice(options)"
   ]
  },
  {
   "cell_type": "code",
   "execution_count": 45,
   "metadata": {},
   "outputs": [],
   "source": [
    "def stairStepRhyme(text):\n",
    "    verse1List = text.strip(\";\").split()\n",
    "\n",
    "    # 1. Stair-step rhyme: the final word of the first line of verse rhymes with the first word of the second line of verse.\n",
    "    #Rima encadenada en escalera: la palabra final del primer verso rima con la primer palabra del segundo verso.\n",
    "    #generate rhyme options \n",
    "    # print(verse1List[-1])\n",
    "    options = generate_options(verse1List[-1].strip()) #esto depende del tipo de rima\n",
    "    # print(\"lista rimas: \", options)\n",
    "\n",
    "    #pick best matching option (rhyme)\n",
    "    selected = pick_matching(text + ' ', options)\n",
    "    # print(\"picker: \", selected)\n",
    "\n",
    "    #creating the rhyme in second verse\n",
    "    verse2 = generate_text(previous_text=text + ' ' + str(selected) , lenght=30)\n",
    "\n",
    "    return verse2"
   ]
  },
  {
   "cell_type": "code",
   "execution_count": 46,
   "metadata": {},
   "outputs": [],
   "source": [
    "def byRepetitionRhyme(text):\n",
    "    #2. By repetition of the rhyme at the beginning of the following line of verse: The final word of the previous verse is repeated at the beginning.\n",
    "    verse1List = text.strip(\";\").split()\n",
    "\n",
    "    #creating the rhyme in second verse\n",
    "    verse2 = generate_text(previous_text=text + ' ' + str(verse1List[-1].strip()) , lenght=30)\n",
    "\n",
    "    return verse2"
   ]
  },
  {
   "cell_type": "code",
   "execution_count": 47,
   "metadata": {},
   "outputs": [],
   "source": [
    "def twinRhyme(text):\n",
    "    #3. Twin rhyme: the rhyme is similar in two consecutive lines of verse; the last word of the first verse rhymes with the last word of the second verse\n",
    "    verse1List = text.strip(\";\").split()\n",
    "    \n",
    "    #generate rhyme options \n",
    "    options = generate_options(verse1List[-1].strip())\n",
    "\n",
    "    #pick best matching option (rhyme)\n",
    "    selected = pick_matching(text + ' ', options)\n",
    "\n",
    "    #creating the rhyme in second verse\n",
    "    verse2 = generate_text(previous_text = text + ' ', lenght=30) + ' ' + str(selected)\n",
    "\n",
    "    return verse2"
   ]
  },
  {
   "cell_type": "code",
   "execution_count": 48,
   "metadata": {},
   "outputs": [],
   "source": [
    "def noRhyme(text):\n",
    "    #4. Unrhymed verses\n",
    "\n",
    "    #creating the second verse\n",
    "    verse2 = generate_text(previous_text=text + ' ', lenght=30)\n",
    "\n",
    "    return verse2"
   ]
  },
  {
   "cell_type": "code",
   "execution_count": 49,
   "metadata": {},
   "outputs": [],
   "source": [
    "def chooseRhymeTypeRandom(previousText):\n",
    "    rhymeType = [stairStepRhyme,byRepetitionRhyme,twinRhyme,noRhyme]\n",
    "    choice = random.choice(rhymeType)\n",
    "    print(choice)\n",
    "    return choice(previousText)"
   ]
  },
  {
   "cell_type": "code",
   "execution_count": 50,
   "metadata": {},
   "outputs": [
    {
     "data": {
      "text/plain": [
       "'leaves from the vine;'"
      ]
     },
     "execution_count": 50,
     "metadata": {},
     "output_type": "execute_result"
    }
   ],
   "source": [
    "generatedText = generate_text(userInput,30)\n",
    "lyric = generatedText\n",
    "lyric"
   ]
  },
  {
   "cell_type": "code",
   "execution_count": 51,
   "metadata": {},
   "outputs": [
    {
     "name": "stdout",
     "output_type": "stream",
     "text": [
      "leaves from the vine;\n",
      "<function twinRhyme at 0x7fa7d89089d0>\n",
      "leaves from the vine;  from the vine; strine\n",
      "<function stairStepRhyme at 0x7fa7d8908b80>\n",
      "leaves from the vine;  from the vine; strine wine from the vine;\n",
      "<function byRepetitionRhyme at 0x7fa7d8910550>\n",
      "leaves from the vine;  from the vine; strine wine from the vine; vine from the vine;\n",
      "<function twinRhyme at 0x7fa7d89089d0>\n",
      "leaves from the vine;  from the vine; strine wine from the vine; vine from the vine;  from the vine; devine\n"
     ]
    },
    {
     "data": {
      "text/plain": [
       "'leaves from the vine;  from the vine; strine wine from the vine; vine from the vine;  from the vine; devine'"
      ]
     },
     "execution_count": 51,
     "metadata": {},
     "output_type": "execute_result"
    }
   ],
   "source": [
    "# decido tipo de rima\n",
    "lyric = generatedText\n",
    "print(lyric)\n",
    "while len(lyric.split(\";\")) <= 5:\n",
    "    lyric = chooseRhymeTypeRandom(lyric)\n",
    "    print(lyric)\n",
    "\n",
    "lyric"
   ]
  }
 ],
 "metadata": {
  "kernelspec": {
   "display_name": "Python 3.9.7 ('ml')",
   "language": "python",
   "name": "python3"
  },
  "language_info": {
   "codemirror_mode": {
    "name": "ipython",
    "version": 3
   },
   "file_extension": ".py",
   "mimetype": "text/x-python",
   "name": "python",
   "nbconvert_exporter": "python",
   "pygments_lexer": "ipython3",
   "version": "3.9.7"
  },
  "orig_nbformat": 4,
  "vscode": {
   "interpreter": {
    "hash": "34f0680f93e83a4a101ea3928db54ef43df704f0ed6210e5ae2b09f0ef086431"
   }
  }
 },
 "nbformat": 4,
 "nbformat_minor": 2
}
