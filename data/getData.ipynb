{
 "cells": [
  {
   "cell_type": "markdown",
   "metadata": {},
   "source": [
    "### CLIENT ID\n",
    "wc6ugfi7CbFSl9EjKDrTNkv87Sj99pl8bmvD-9iNfYYEs8F0mYGoPBGIFaYmy5DQ\n",
    "### CLIENT SECRET\n",
    "oprkZ4Ms-xLYLRPqNnW03JIJ2bVtbcWfxZPuKiABHdSi1m8UamgIPSZVsRmk8Yb7qV1AfjINGwGrWkr_47uyJQ\n",
    "### CLIENT ACCESS TOKEN\n",
    "E2az4pjhy7fLmOVOQow3jiZ8C2SAmJ_OR8JOPGSRPZMugVHlIOROQQwt9WxE1FVO\n",
    "\n",
    "## Musicmatch\n",
    "73408da8d480539eed34034d92bda181"
   ]
  },
  {
   "cell_type": "markdown",
   "metadata": {},
   "source": [
    "## Genius"
   ]
  },
  {
   "cell_type": "code",
   "execution_count": 36,
   "metadata": {},
   "outputs": [],
   "source": [
    "import lyricsgenius\n",
    "genius = lyricsgenius.Genius(\"E2az4pjhy7fLmOVOQow3jiZ8C2SAmJ_OR8JOPGSRPZMugVHlIOROQQwt9WxE1FVO\")\n",
    "genius.remove_section_headers = True\n",
    "genius.excluded_terms = [\"(Remix)\", \"(Live)\"]\n"
   ]
  },
  {
   "cell_type": "code",
   "execution_count": 43,
   "metadata": {},
   "outputs": [
    {
     "name": "stdout",
     "output_type": "stream",
     "text": [
      "Searching for songs by 5 seconds of summer...\n",
      "\n",
      "Changing artist name to '5 Seconds of Summer'\n",
      "Song 1: \"18\"\n",
      "\"18 (Live)\" is not valid. Skipping.\n",
      "Song 2: \"2011\"\n",
      "Song 3: \"2014 ARIA Awards “Song of the Year” Acceptance Speech\"\n",
      "\"2015 ARIA Awards “Best Australian Live Act” Acceptance Speech\" is not valid. Skipping.\n",
      "\"2018 ARIA Awards “Best Australian Live Act” Acceptance Speech\" is not valid. Skipping.\n",
      "Song 4: \"2018 ARIA Awards “Best Group” Acceptance Speech\"\n",
      "Song 5: \"2018 ARIA Awards “Song Of The Year” Acceptance Speech\"\n",
      "Song 6: \"500 Years of Winter - Pizza Song\"\n",
      "\"500 Years of Winter - Pizza Song (Live)\" is not valid. Skipping.\n",
      "Song 7: \"5 Seconds of Summer [Liner Notes]\"\n",
      "Song 8: \"5 Seconds of Summer’s Chart History\"\n",
      "Song 9: \"5 Seconds of Summer Tour Guide\"\n",
      "Song 10: \"5SOS5 [Liner Notes]\"\n",
      "Song 11: \"5SOS INFLUENCES Playlist\"\n",
      "Song 12: \"A Drop In The Ocean (Cover)\"\n",
      "Song 13: \"Airplanes\"\n",
      "Song 14: \"All I Need\"\n",
      "Song 15: \"American Idiot\"\n",
      "\"American Idiot (Live)\" is not valid. Skipping.\n",
      "Song 16: \"Amnesia\"\n",
      "\"Amnesia (Live)\" is not valid. Skipping.\n",
      "\"Amnesia (Live at Wembley)\" is not valid. Skipping.\n",
      "\"Amnesia - Live (Meet You There Tour)\" is not valid. Skipping.\n",
      "Song 17: \"Ashton’s Playlist\"\n",
      "Song 18: \"As Long As You Love Me (Justin Bieber Cover)\"\n",
      "Song 19: \"Baby (Cover)\"\n",
      "Song 20: \"Babylon\"\n",
      "\"Babylon (Live)\" is not valid. Skipping.\n",
      "Song 21: \"Bad Dreams\"\n",
      "Song 22: \"Bad Omens\"\n",
      "Song 23: \"Beside You\"\n",
      "\"Beside You (Live)\" is not valid. Skipping.\n",
      "Song 24: \"Best Friend\"\n",
      "Song 25: \"Best Friends\"\n",
      "Song 26: \"Best Years\"\n",
      "Song 27: \"Better Man\"\n",
      "\"Better Man (Live)\" is not valid. Skipping.\n",
      "Song 28: \"Bleach\"\n",
      "Song 29: \"BLENDER\"\n",
      "Song 30: \"Bloodhound\"\n",
      "Song 31: \"Broken Home\"\n",
      "Song 32: \"Broken Pieces\"\n",
      "Song 33: \"Cal’s Playlist\"\n",
      "Song 34: \"Caramel\"\n",
      "Song 35: \"CAROUSEL\"\n",
      "Song 36: \"Castaway\"\n",
      "Song 37: \"Catch Fire\"\n",
      "Song 38: \"Check Yes, Juliet (Cover)\"\n",
      "Song 39: \"Close As Strangers\"\n",
      "Song 40: \"Cloudy*\"\n",
      "Song 41: \"COMPLETE MESS\"\n",
      "Song 42: \"COMPLETE MESS (Acoustic)\"\n",
      "\"Dancing with a Stranger (BBC Radio 1 Live Lounge)\" is not valid. Skipping.\n",
      "Song 43: \"Daylight\"\n",
      "Song 44: \"Daytime IHeart Radio Festival 2018 Setlist\"\n",
      "Song 45: \"Disconnected\"\n",
      "\"Disconnected (Live)\" is not valid. Skipping.\n",
      "Song 46: \"Don’t Stop\"\n",
      "Song 47: \"Don’t Stop (Acoustic)\"\n",
      "Song 48: \"Don’t Stop (Ash Demo Vocal)\"\n",
      "Song 49: \"Don’t Stop (Calum Demo Vocal)\"\n",
      "\"Don’t Stop (Live)\" is not valid. Skipping.\n",
      "Song 50: \"Drown (Cover)\"\n",
      "\n",
      "Reached user-specified song limit (50).\n",
      "Done. Found 50 songs.\n",
      "[Song(id, artist, ...), Song(id, artist, ...), Song(id, artist, ...), Song(id, artist, ...), Song(id, artist, ...), Song(id, artist, ...), Song(id, artist, ...), Song(id, artist, ...), Song(id, artist, ...), Song(id, artist, ...), Song(id, artist, ...), Song(id, artist, ...), Song(id, artist, ...), Song(id, artist, ...), Song(id, artist, ...), Song(id, artist, ...), Song(id, artist, ...), Song(id, artist, ...), Song(id, artist, ...), Song(id, artist, ...), Song(id, artist, ...), Song(id, artist, ...), Song(id, artist, ...), Song(id, artist, ...), Song(id, artist, ...), Song(id, artist, ...), Song(id, artist, ...), Song(id, artist, ...), Song(id, artist, ...), Song(id, artist, ...), Song(id, artist, ...), Song(id, artist, ...), Song(id, artist, ...), Song(id, artist, ...), Song(id, artist, ...), Song(id, artist, ...), Song(id, artist, ...), Song(id, artist, ...), Song(id, artist, ...), Song(id, artist, ...), Song(id, artist, ...), Song(id, artist, ...), Song(id, artist, ...), Song(id, artist, ...), Song(id, artist, ...), Song(id, artist, ...), Song(id, artist, ...), Song(id, artist, ...), Song(id, artist, ...), Song(id, artist, ...)]\n"
     ]
    }
   ],
   "source": [
    "artist = genius.search_artist(\"5 seconds of summer\", sort=\"title\", max_songs=50, include_features=False)\n",
    "print(artist.songs)"
   ]
  },
  {
   "cell_type": "code",
   "execution_count": 44,
   "metadata": {},
   "outputs": [
    {
     "name": "stdout",
     "output_type": "stream",
     "text": [
      "Wrote Lyrics_5SecondsofSummer.json.\n"
     ]
    }
   ],
   "source": [
    "artist.save_lyrics()\n"
   ]
  },
  {
   "cell_type": "code",
   "execution_count": 2,
   "metadata": {},
   "outputs": [
    {
     "name": "stdout",
     "output_type": "stream",
     "text": [
      "Searching for \"The Party\" by Andy Shauf...\n",
      "Wrote Lyrics_TheParty.json.\n"
     ]
    },
    {
     "data": {
      "text/plain": [
       "Album(id, artist, ...)"
      ]
     },
     "execution_count": 2,
     "metadata": {},
     "output_type": "execute_result"
    }
   ],
   "source": [
    "album = genius.search_album(\"The Party\", \"Andy Shauf\")\n",
    "album.save_lyrics()\n",
    "album"
   ]
  },
  {
   "cell_type": "markdown",
   "metadata": {},
   "source": [
    "## Musixmatch"
   ]
  },
  {
   "cell_type": "code",
   "execution_count": 13,
   "metadata": {},
   "outputs": [],
   "source": [
    "import musixmatch "
   ]
  },
  {
   "cell_type": "code",
   "execution_count": 14,
   "metadata": {},
   "outputs": [
    {
     "ename": "TypeError",
     "evalue": "'module' object is not callable",
     "output_type": "error",
     "traceback": [
      "\u001b[0;31m---------------------------------------------------------------------------\u001b[0m",
      "\u001b[0;31mTypeError\u001b[0m                                 Traceback (most recent call last)",
      "\u001b[1;32m/Users/katherinegarcia/Desktop/artifitialCreativity/newData.ipynb Cell 9\u001b[0m in \u001b[0;36m<module>\u001b[0;34m\u001b[0m\n\u001b[1;32m      <a href='vscode-notebook-cell:/Users/katherinegarcia/Desktop/artifitialCreativity/newData.ipynb#X11sZmlsZQ%3D%3D?line=0'>1</a>\u001b[0m apikey \u001b[39m=\u001b[39m \u001b[39m'\u001b[39m\u001b[39m73408da8d480539eed34034d92bda181\u001b[39m\u001b[39m'\u001b[39m\n\u001b[0;32m----> <a href='vscode-notebook-cell:/Users/katherinegarcia/Desktop/artifitialCreativity/newData.ipynb#X11sZmlsZQ%3D%3D?line=1'>2</a>\u001b[0m chart \u001b[39m=\u001b[39m musixmatch(apikey\u001b[39m=\u001b[39;49mapikey)\n",
      "\u001b[0;31mTypeError\u001b[0m: 'module' object is not callable"
     ]
    }
   ],
   "source": [
    "apikey = '73408da8d480539eed34034d92bda181'\n",
    "chart = musixmatch(apikey=apikey)\n"
   ]
  },
  {
   "cell_type": "code",
   "execution_count": 2,
   "metadata": {},
   "outputs": [],
   "source": [
    "from Phyme import Phyme\n",
    "ph = Phyme()"
   ]
  },
  {
   "cell_type": "code",
   "execution_count": 11,
   "metadata": {},
   "outputs": [
    {
     "name": "stdout",
     "output_type": "stream",
     "text": [
      "1 ['show', 'dough', 'doh', 'joe', 'aux', 'hoh', 'quo', 'glow', 'mo', 'mau', 'noe', 'poe', 'owe', 'schau', 'row', 'ow', 'glo', 'toe', 'doe', 'though', 'wo', \"o'\", 'whoa', 'bro', 'bo', 'know', 'pro', 'slow', 'au', 'throw', 'low', 'blow', 'po', 'tho', 'flo', 'lo', 'crow', 'flow', 'foe', 'woe', 'jo', 'ohh', 'moe', 'grow', 'ho', 'oh', 'co', 'ro', 'snow', 'sew', 'hoe', 'mow', 'fro', 'yo', 'cho', 'tow', 'go', 'beau', 'ko', 'beaux', 'bleau', 'blowe', 'boe', 'boeh', 'bow(1)', 'bowe', 'breau', 'breault', 'breaux', 'broe', 'browe', 'cau(1)', 'chau', 'choe', 'cloe', 'clow', 'co.', 'coe', 'cro', 'crowe', 'dau', 'eau', 'eaux', 'faux', 'floe', 'flowe', 'froh', 'gau', 'gloe', 'goe', 'gogh', 'goh', 'gro', 'groh', 'growe', 'joh', 'koh', 'krogh', 'kroh', 'krowe', 'kyo', 'loe', 'loew(1)', 'loewe(1)', 'loh', 'lowe', 'luo', \"m'bow\", 'meaux', 'nau', 'neault', 'no', 'noh', 'o', 'o.', 'plough(1)', 'poh', 'queau', 'reaux', 'rheault', 'rho', 'roe', 'roh', 'rohe', 'rowe', 'sgro', 'sloe', 'snowe', 'so', 'sow(1)', 'stow', 'stowe', 'stroh', 'strow', 'towe', 'trow', 'tso', 'tso(1)', 'vo', 'whoa(1)', 'whoa(2)', 'wo(1)', 'wroe', 'yau', 'yoe', 'yoh', 'zoh']\n",
      "2 ['nouveau', 'cabo', 'although', \"y'know\", 'uno', 'hello', 'aglow', 'ago', 'dunno', 'monroe', 'aglo', \"'allo\", 'arnaud', 'arnault', 'badeau', 'badeaux', 'barbeau', 'beaudreau', 'bebeau', 'begnaud', 'belleau', 'below', 'below(1)', 'bestow', 'bibeau', 'bibeault', 'bio', 'biscoe', 'blincoe', 'boileau', 'boisseau', 'bonneau', 'bordeau', 'bordeaux', 'boudreau', 'boudreaux', 'bourbeau', 'bourdeau', 'bourgault', 'brancheau', 'brasseaux', 'brazeau', 'brideau', 'brosseau', 'brousseau', 'bruneau', 'brusseau', 'budreau', 'buteau', 'campeau', 'chabot', 'champeau', 'changsho', 'chateau', 'chateaux', 'chenault', 'cointreau', 'comeau', 'comeaux', 'compeau', 'cousteau', 'crepeau', 'croteau', 'crotteau', 'daignault', 'daigneault', 'davao', 'davault', 'deboe', 'dedeaux', 'defoe', 'denault', 'deneau', 'deneault', 'devault', 'devaux', 'deveau', 'deveaux', 'devoe', 'drapeau', 'dubeau', 'dufault', 'dussault', 'dusseau', 'dusseault', 'enloe', 'enlow', 'enslow', 'escoe', 'escrow', 'facteau', 'faucheux', 'faurot', 'fauteux', 'favreau', 'fecteau', 'forego', 'forgo', 'foucault', 'fregeau', 'furlaud', 'garceau', 'gareau', 'garneau', 'gateau', 'gaudreau', 'gauthreaux', 'gautreau', 'gautreaux', 'gauvreau', 'gendreau', 'georgiou', 'gibeau', 'gibeault', 'giraud', 'godot', 'goudeau', 'goudreau', 'groleau', 'guandjo', 'guilbault', 'guilbeau', 'guilbeault', 'guilbeaux', 'guillot', 'hello(1)', 'hoho', 'hurteau', 'hwang-ho', 'hwang-ho(1)', 'inco', 'inlow', 'inscoe', 'jacquot', 'jandreau', 'jarreau', 'kayo', 'kowtow(1)', 'labeau', 'lafoe', 'lambeau', 'lambreau', 'lareau', 'laveau', 'lebeau', 'lebow', 'lebowe', 'ledlow', 'legault', 'leleux', 'lettau', 'lheureux', 'lienau', 'lozeau', 'malveaux', 'manseau', 'marceau', 'marceaux', 'margaux', 'mayeux', \"m'bow(1)\", 'michaud', 'michaux', 'micheaux', 'migneault', 'mineau', 'miro(1)', 'monceaux', 'mongeau', 'moreau', 'morneau', 'morneault', 'mousseau', 'munro', 'nadeau', 'nedeau', 'neveau', 'ngo', 'outgrow', 'papo', 'pernod', 'perot', 'perreault', 'peugeot', 'pineau', 'plateau', 'poirot', 'primeau', 'primeaux', 'pruneau', 'rambeau', 'renaud', 'renault', 'reneau', 'rideau', 'rideaux', 'riendeau', 'rondeau', 'rougeau', 'rouleau', 'rousseau', 'so-so', 'soco', 'soileau', 'tableau', 'tableaux', 'tarot', 'tebeau', 'tetreault', 'thebeau', 'thibault', 'thibeau', 'thibeaux', 'thiebaud', 'thoreau', 'thurnau', 'tondreau', 'trudeau', 'truffaut', 'turbot', 'ungo', 'valleau', 'van_gogh', 'veilleux', 'viau', 'vieau', 'vienneau', 'vigneau', 'vigneault']\n",
      "3 ['ufo', 'ceo', 'apropos', 'cfo', 'eeo', 'ex-voto', 'hbo', 'imo(1)', 'mealo', 'overflow(1)', 'pinsoneault(1)', 'taekwondo', 'tallyho', 'theriault', 'therriault', 'tourtelot(1)', 'undergo']\n",
      "4 ['cabo(1)', 'celo(2)']\n",
      "6 ['genego(2)']\n",
      "['show', 'dough', 'doh', 'joe', 'aux', 'hoh', 'quo', 'glow', 'mo', 'mau', 'noe', 'poe', 'owe', 'schau', 'row', 'ow', 'glo', 'toe', 'doe', 'though', 'wo', \"o'\", 'whoa', 'bro', 'bo', 'know', 'pro', 'slow', 'au', 'throw', 'low', 'blow', 'po', 'tho', 'flo', 'lo', 'crow', 'flow', 'foe', 'woe', 'jo', 'ohh', 'moe', 'grow', 'ho', 'oh', 'co', 'ro', 'snow', 'sew', 'hoe', 'mow', 'fro', 'yo', 'cho', 'tow', 'go', 'beau', 'ko', 'beaux', 'bleau', 'blowe', 'boe', 'boeh', 'bow(1)', 'bowe', 'breau', 'breault', 'breaux', 'broe', 'browe', 'cau(1)', 'chau', 'choe', 'cloe', 'clow', 'co.', 'coe', 'cro', 'crowe', 'dau', 'eau', 'eaux', 'faux', 'floe', 'flowe', 'froh', 'gau', 'gloe', 'goe', 'gogh', 'goh', 'gro', 'groh', 'growe', 'joh', 'koh', 'krogh', 'kroh', 'krowe', 'kyo', 'loe', 'loew(1)', 'loewe(1)', 'loh', 'lowe', 'luo', \"m'bow\", 'meaux', 'nau', 'neault', 'no', 'noh', 'o', 'o.', 'plough(1)', 'poh', 'queau', 'reaux', 'rheault', 'rho', 'roe', 'roh', 'rohe', 'rowe', 'sgro', 'sloe', 'snowe', 'so', 'sow(1)', 'stow', 'stowe', 'stroh', 'strow', 'towe', 'trow', 'tso', 'tso(1)', 'vo', 'whoa(1)', 'whoa(2)', 'wo(1)', 'wroe', 'yau', 'yoe', 'yoh', 'zoh', 'nouveau', 'cabo', 'although', \"y'know\", 'uno', 'hello', 'aglow', 'ago', 'dunno', 'monroe', 'aglo', \"'allo\", 'arnaud', 'arnault', 'badeau', 'badeaux', 'barbeau', 'beaudreau', 'bebeau', 'begnaud', 'belleau', 'below', 'below(1)', 'bestow', 'bibeau', 'bibeault', 'bio', 'biscoe', 'blincoe', 'boileau', 'boisseau', 'bonneau', 'bordeau', 'bordeaux', 'boudreau', 'boudreaux', 'bourbeau', 'bourdeau', 'bourgault', 'brancheau', 'brasseaux', 'brazeau', 'brideau', 'brosseau', 'brousseau', 'bruneau', 'brusseau', 'budreau', 'buteau', 'campeau', 'chabot', 'champeau', 'changsho', 'chateau', 'chateaux', 'chenault', 'cointreau', 'comeau', 'comeaux', 'compeau', 'cousteau', 'crepeau', 'croteau', 'crotteau', 'daignault', 'daigneault', 'davao', 'davault', 'deboe', 'dedeaux', 'defoe', 'denault', 'deneau', 'deneault', 'devault', 'devaux', 'deveau', 'deveaux', 'devoe', 'drapeau', 'dubeau', 'dufault', 'dussault', 'dusseau', 'dusseault', 'enloe', 'enlow', 'enslow', 'escoe', 'escrow', 'facteau', 'faucheux', 'faurot', 'fauteux', 'favreau', 'fecteau', 'forego', 'forgo', 'foucault', 'fregeau', 'furlaud', 'garceau', 'gareau', 'garneau', 'gateau', 'gaudreau', 'gauthreaux', 'gautreau', 'gautreaux', 'gauvreau', 'gendreau', 'georgiou', 'gibeau', 'gibeault', 'giraud', 'godot', 'goudeau', 'goudreau', 'groleau', 'guandjo', 'guilbault', 'guilbeau', 'guilbeault', 'guilbeaux', 'guillot', 'hello(1)', 'hoho', 'hurteau', 'hwang-ho', 'hwang-ho(1)', 'inco', 'inlow', 'inscoe', 'jacquot', 'jandreau', 'jarreau', 'kayo', 'kowtow(1)', 'labeau', 'lafoe', 'lambeau', 'lambreau', 'lareau', 'laveau', 'lebeau', 'lebow', 'lebowe', 'ledlow', 'legault', 'leleux', 'lettau', 'lheureux', 'lienau', 'lozeau', 'malveaux', 'manseau', 'marceau', 'marceaux', 'margaux', 'mayeux', \"m'bow(1)\", 'michaud', 'michaux', 'micheaux', 'migneault', 'mineau', 'miro(1)', 'monceaux', 'mongeau', 'moreau', 'morneau', 'morneault', 'mousseau', 'munro', 'nadeau', 'nedeau', 'neveau', 'ngo', 'outgrow', 'papo', 'pernod', 'perot', 'perreault', 'peugeot', 'pineau', 'plateau', 'poirot', 'primeau', 'primeaux', 'pruneau', 'rambeau', 'renaud', 'renault', 'reneau', 'rideau', 'rideaux', 'riendeau', 'rondeau', 'rougeau', 'rouleau', 'rousseau', 'so-so', 'soco', 'soileau', 'tableau', 'tableaux', 'tarot', 'tebeau', 'tetreault', 'thebeau', 'thibault', 'thibeau', 'thibeaux', 'thiebaud', 'thoreau', 'thurnau', 'tondreau', 'trudeau', 'truffaut', 'turbot', 'ungo', 'valleau', 'van_gogh', 'veilleux', 'viau', 'vieau', 'vienneau', 'vigneau', 'vigneault', 'ufo', 'ceo', 'apropos', 'cfo', 'eeo', 'ex-voto', 'hbo', 'imo(1)', 'mealo', 'overflow(1)', 'pinsoneault(1)', 'taekwondo', 'tallyho', 'theriault', 'therriault', 'tourtelot(1)', 'undergo', 'cabo(1)', 'celo(2)', 'genego(2)']\n"
     ]
    }
   ],
   "source": [
    "phRhymes = ph.get_perfect_rhymes(\"hello\")\n",
    "rhymes = []\n",
    "for k,v in phRhymes.items():\n",
    "    print(k,v)\n",
    "    rhymes.extend(v)\n",
    "\n",
    "# rhymes = [for i in rhymes]\n",
    "print(rhymes)\n",
    "# ph.get_family_rhymes(\"hello\")"
   ]
  }
 ],
 "metadata": {
  "kernelspec": {
   "display_name": "Python 3.9.7 ('ml')",
   "language": "python",
   "name": "python3"
  },
  "language_info": {
   "codemirror_mode": {
    "name": "ipython",
    "version": 3
   },
   "file_extension": ".py",
   "mimetype": "text/x-python",
   "name": "python",
   "nbconvert_exporter": "python",
   "pygments_lexer": "ipython3",
   "version": "3.9.7"
  },
  "orig_nbformat": 4,
  "vscode": {
   "interpreter": {
    "hash": "34f0680f93e83a4a101ea3928db54ef43df704f0ed6210e5ae2b09f0ef086431"
   }
  }
 },
 "nbformat": 4,
 "nbformat_minor": 2
}
