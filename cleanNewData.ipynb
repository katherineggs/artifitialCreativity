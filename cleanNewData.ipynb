{
 "cells": [
  {
   "cell_type": "code",
   "execution_count": 34,
   "metadata": {},
   "outputs": [],
   "source": [
    "import pandas as pd\n",
    "import re\n",
    "import os"
   ]
  },
  {
   "cell_type": "code",
   "execution_count": 71,
   "metadata": {},
   "outputs": [
    {
     "name": "stdout",
     "output_type": "stream",
     "text": [
      "<class 'pandas.core.frame.DataFrame'>\n",
      "RangeIndex: 121 entries, 0 to 120\n",
      "Data columns (total 1 columns):\n",
      " #   Column  Non-Null Count  Dtype \n",
      "---  ------  --------------  ----- \n",
      " 0   songs   121 non-null    object\n",
      "dtypes: object(1)\n",
      "memory usage: 1.1+ KB\n"
     ]
    }
   ],
   "source": [
    "df1 = pd.read_json(\"Lyrics_Adele.json\")\n",
    "df2 = pd.read_json(\"Lyrics_HarryStyles.json\")\n",
    "df3 = pd.read_json(\"Lyrics_SamSmith.json\")\n",
    "df1.info()"
   ]
  },
  {
   "cell_type": "code",
   "execution_count": 70,
   "metadata": {},
   "outputs": [
    {
     "data": {
      "text/html": [
       "<div>\n",
       "<style scoped>\n",
       "    .dataframe tbody tr th:only-of-type {\n",
       "        vertical-align: middle;\n",
       "    }\n",
       "\n",
       "    .dataframe tbody tr th {\n",
       "        vertical-align: top;\n",
       "    }\n",
       "\n",
       "    .dataframe thead th {\n",
       "        text-align: right;\n",
       "    }\n",
       "</style>\n",
       "<table border=\"1\" class=\"dataframe\">\n",
       "  <thead>\n",
       "    <tr style=\"text-align: right;\">\n",
       "      <th></th>\n",
       "      <th>artist</th>\n",
       "      <th>lyrics</th>\n",
       "      <th>title</th>\n",
       "    </tr>\n",
       "  </thead>\n",
       "  <tbody>\n",
       "  </tbody>\n",
       "</table>\n",
       "</div>"
      ],
      "text/plain": [
       "Empty DataFrame\n",
       "Columns: [artist, lyrics, title]\n",
       "Index: []"
      ]
     },
     "execution_count": 70,
     "metadata": {},
     "output_type": "execute_result"
    }
   ],
   "source": [
    "df2.head(20)"
   ]
  },
  {
   "cell_type": "code",
   "execution_count": 59,
   "metadata": {},
   "outputs": [
    {
     "data": {
      "text/html": [
       "<div>\n",
       "<style scoped>\n",
       "    .dataframe tbody tr th:only-of-type {\n",
       "        vertical-align: middle;\n",
       "    }\n",
       "\n",
       "    .dataframe tbody tr th {\n",
       "        vertical-align: top;\n",
       "    }\n",
       "\n",
       "    .dataframe thead th {\n",
       "        text-align: right;\n",
       "    }\n",
       "</style>\n",
       "<table border=\"1\" class=\"dataframe\">\n",
       "  <thead>\n",
       "    <tr style=\"text-align: right;\">\n",
       "      <th></th>\n",
       "      <th>songs</th>\n",
       "    </tr>\n",
       "  </thead>\n",
       "  <tbody>\n",
       "    <tr>\n",
       "      <th>21</th>\n",
       "      <td>{'annotation_count': 0, 'api_path': '/songs/60...</td>\n",
       "    </tr>\n",
       "    <tr>\n",
       "      <th>42</th>\n",
       "      <td>{'annotation_count': 1, 'api_path': '/songs/22...</td>\n",
       "    </tr>\n",
       "    <tr>\n",
       "      <th>46</th>\n",
       "      <td>{'annotation_count': 1, 'api_path': '/songs/79...</td>\n",
       "    </tr>\n",
       "    <tr>\n",
       "      <th>30</th>\n",
       "      <td>{'annotation_count': 0, 'api_path': '/songs/82...</td>\n",
       "    </tr>\n",
       "    <tr>\n",
       "      <th>33</th>\n",
       "      <td>{'annotation_count': 1, 'api_path': '/songs/31...</td>\n",
       "    </tr>\n",
       "  </tbody>\n",
       "</table>\n",
       "</div>"
      ],
      "text/plain": [
       "                                                songs\n",
       "21  {'annotation_count': 0, 'api_path': '/songs/60...\n",
       "42  {'annotation_count': 1, 'api_path': '/songs/22...\n",
       "46  {'annotation_count': 1, 'api_path': '/songs/79...\n",
       "30  {'annotation_count': 0, 'api_path': '/songs/82...\n",
       "33  {'annotation_count': 1, 'api_path': '/songs/31..."
      ]
     },
     "execution_count": 59,
     "metadata": {},
     "output_type": "execute_result"
    }
   ],
   "source": [
    "df.sample(5)"
   ]
  },
  {
   "cell_type": "code",
   "execution_count": 80,
   "metadata": {},
   "outputs": [],
   "source": [
    "lyrics = []\n",
    "artists = []\n",
    "titles = []\n",
    "df = df3.copy()\n",
    "for i in range(len(df)):\n",
    "    for element, info in df[\"songs\"][i].items():\n",
    "        # print(element)\n",
    "        if element == \"artist\":\n",
    "            artists.append(info)\n",
    "        if element == \"lyrics\":\n",
    "            info = info.replace(\"\\n\", \" ; \")\n",
    "            info = re.sub(r'^.*?;', \"\", info)\n",
    "            info = re.sub(r'Embed.*?$', \"\", info)\n",
    "            lyrics.append(info)\n",
    "        if element == \"title\":\n",
    "            # info = re.sub(r'^.*?\\n', \"\", info)\n",
    "            titles.append(info)\n",
    "dfClean3 = pd.DataFrame({\"artist\":artists, \"lyrics\":lyrics, \"title\":titles})\n",
    "# dfClean.head(20)"
   ]
  },
  {
   "cell_type": "code",
   "execution_count": 82,
   "metadata": {},
   "outputs": [],
   "source": [
    "cleanDfs = [dfClean1, dfClean2, dfClean3]\n",
    "final = pd.concat(cleanDfs)"
   ]
  },
  {
   "cell_type": "code",
   "execution_count": 83,
   "metadata": {},
   "outputs": [],
   "source": [
    "final.lyrics.to_csv('data.csv', index=False)\n"
   ]
  },
  {
   "cell_type": "code",
   "execution_count": 84,
   "metadata": {},
   "outputs": [],
   "source": [
    "lyrics = []\n",
    "artists = []\n",
    "titles = []\n",
    "for filename in os.listdir('jsonLyrics'):\n",
    "    df = pd.read_json(os.path.join(\"jsonLyrics/\", filename))\n",
    "    for i in range(len(df)):\n",
    "        for element, info in df[\"songs\"][i].items():\n",
    "            # print(element)\n",
    "            if element == \"artist\":\n",
    "                artists.append(info)\n",
    "            if element == \"lyrics\":\n",
    "                info = info.replace(\"\\n\", \" ; \")\n",
    "                info = re.sub(r'^.*?;', \"\", info)\n",
    "                info = re.sub(r'Embed.*?$', \"\", info)\n",
    "                lyrics.append(info)\n",
    "            if element == \"title\":\n",
    "                # info = re.sub(r'^.*?\\n', \"\", info)\n",
    "                titles.append(info)\n",
    "\n",
    "dfClean = pd.DataFrame({\"artist\":artists, \"lyrics\":lyrics, \"title\":titles})\n"
   ]
  },
  {
   "cell_type": "code",
   "execution_count": 89,
   "metadata": {},
   "outputs": [
    {
     "data": {
      "text/html": [
       "<div>\n",
       "<style scoped>\n",
       "    .dataframe tbody tr th:only-of-type {\n",
       "        vertical-align: middle;\n",
       "    }\n",
       "\n",
       "    .dataframe tbody tr th {\n",
       "        vertical-align: top;\n",
       "    }\n",
       "\n",
       "    .dataframe thead th {\n",
       "        text-align: right;\n",
       "    }\n",
       "</style>\n",
       "<table border=\"1\" class=\"dataframe\">\n",
       "  <thead>\n",
       "    <tr style=\"text-align: right;\">\n",
       "      <th></th>\n",
       "      <th>artist</th>\n",
       "      <th>lyrics</th>\n",
       "      <th>title</th>\n",
       "    </tr>\n",
       "  </thead>\n",
       "  <tbody>\n",
       "    <tr>\n",
       "      <th>0</th>\n",
       "      <td>Selena Gomez</td>\n",
       "      <td>; La-la-la, la-ah, ah-ah-ah, la-ah ; La-la-l...</td>\n",
       "      <td>Adiós</td>\n",
       "    </tr>\n",
       "    <tr>\n",
       "      <th>1</th>\n",
       "      <td>Selena Gomez</td>\n",
       "      <td>Monkeys swinging from the trees ; Lions are t...</td>\n",
       "      <td>All Night Long</td>\n",
       "    </tr>\n",
       "    <tr>\n",
       "      <th>2</th>\n",
       "      <td>Prince Royce</td>\n",
       "      <td>Driving all night just to say goodbye ; Windo...</td>\n",
       "      <td>Already Missing You</td>\n",
       "    </tr>\n",
       "    <tr>\n",
       "      <th>3</th>\n",
       "      <td>Selena Gomez</td>\n",
       "      <td>Always But Never LyricsLyrics for this song ha...</td>\n",
       "      <td>Always But Never</td>\n",
       "    </tr>\n",
       "    <tr>\n",
       "      <th>4</th>\n",
       "      <td>Julia Michaels</td>\n",
       "      <td>My friends, they wanna take me to the movies ...</td>\n",
       "      <td>Anxiety</td>\n",
       "    </tr>\n",
       "    <tr>\n",
       "      <th>5</th>\n",
       "      <td>Selena Gomez</td>\n",
       "      <td>Yeah, yeah ; Yeah, yeah, ah ;  ; Is there a p...</td>\n",
       "      <td>A Sweeter Place</td>\n",
       "    </tr>\n",
       "    <tr>\n",
       "      <th>6</th>\n",
       "      <td>Selena Gomez</td>\n",
       "      <td>Can you feel me when I think about you? ; Wit...</td>\n",
       "      <td>A Year Without Rain (Dave Audé Radio Remix)</td>\n",
       "    </tr>\n",
       "    <tr>\n",
       "      <th>7</th>\n",
       "      <td>Selena Gomez</td>\n",
       "      <td>Took you like a shot ; Thought that I could c...</td>\n",
       "      <td>Back To You</td>\n",
       "    </tr>\n",
       "    <tr>\n",
       "      <th>8</th>\n",
       "      <td>Selena Gomez</td>\n",
       "      <td>(I'll come, I'll come back to you) ; (I'll co...</td>\n",
       "      <td>Back to You (Anki Remix)</td>\n",
       "    </tr>\n",
       "    <tr>\n",
       "      <th>9</th>\n",
       "      <td>Selena Gomez</td>\n",
       "      <td>Thought that I could chase you with a cold ev...</td>\n",
       "      <td>Back To You (Joey Pecoraro Remix)</td>\n",
       "    </tr>\n",
       "  </tbody>\n",
       "</table>\n",
       "</div>"
      ],
      "text/plain": [
       "           artist                                             lyrics  \\\n",
       "0    Selena Gomez    ; La-la-la, la-ah, ah-ah-ah, la-ah ; La-la-l...   \n",
       "1    Selena Gomez   Monkeys swinging from the trees ; Lions are t...   \n",
       "2    Prince Royce   Driving all night just to say goodbye ; Windo...   \n",
       "3    Selena Gomez  Always But Never LyricsLyrics for this song ha...   \n",
       "4  Julia Michaels   My friends, they wanna take me to the movies ...   \n",
       "5    Selena Gomez   Yeah, yeah ; Yeah, yeah, ah ;  ; Is there a p...   \n",
       "6    Selena Gomez   Can you feel me when I think about you? ; Wit...   \n",
       "7    Selena Gomez   Took you like a shot ; Thought that I could c...   \n",
       "8    Selena Gomez   (I'll come, I'll come back to you) ; (I'll co...   \n",
       "9    Selena Gomez   Thought that I could chase you with a cold ev...   \n",
       "\n",
       "                                         title  \n",
       "0                                        Adiós  \n",
       "1                               All Night Long  \n",
       "2                          Already Missing You  \n",
       "3                             Always But Never  \n",
       "4                                      Anxiety  \n",
       "5                              A Sweeter Place  \n",
       "6  A Year Without Rain (Dave Audé Radio Remix)  \n",
       "7                                  Back To You  \n",
       "8                     Back to You (Anki Remix)  \n",
       "9            Back To You (Joey Pecoraro Remix)  "
      ]
     },
     "execution_count": 89,
     "metadata": {},
     "output_type": "execute_result"
    }
   ],
   "source": [
    "dfClean.head(10)"
   ]
  },
  {
   "cell_type": "code",
   "execution_count": 88,
   "metadata": {},
   "outputs": [],
   "source": [
    "dfClean.lyrics.to_csv('data.csv', index=False)"
   ]
  }
 ],
 "metadata": {
  "kernelspec": {
   "display_name": "Python 3.9.7 ('ml')",
   "language": "python",
   "name": "python3"
  },
  "language_info": {
   "codemirror_mode": {
    "name": "ipython",
    "version": 3
   },
   "file_extension": ".py",
   "mimetype": "text/x-python",
   "name": "python",
   "nbconvert_exporter": "python",
   "pygments_lexer": "ipython3",
   "version": "3.9.7"
  },
  "orig_nbformat": 4,
  "vscode": {
   "interpreter": {
    "hash": "34f0680f93e83a4a101ea3928db54ef43df704f0ed6210e5ae2b09f0ef086431"
   }
  }
 },
 "nbformat": 4,
 "nbformat_minor": 2
}
