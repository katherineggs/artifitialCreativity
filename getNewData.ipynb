{
 "cells": [
  {
   "cell_type": "markdown",
   "metadata": {},
   "source": [
    "### CLIENT ID\n",
    "wc6ugfi7CbFSl9EjKDrTNkv87Sj99pl8bmvD-9iNfYYEs8F0mYGoPBGIFaYmy5DQ\n",
    "### CLIENT SECRET\n",
    "oprkZ4Ms-xLYLRPqNnW03JIJ2bVtbcWfxZPuKiABHdSi1m8UamgIPSZVsRmk8Yb7qV1AfjINGwGrWkr_47uyJQ\n",
    "### CLIENT ACCESS TOKEN\n",
    "E2az4pjhy7fLmOVOQow3jiZ8C2SAmJ_OR8JOPGSRPZMugVHlIOROQQwt9WxE1FVO\n",
    "\n",
    "## Musicmatch\n",
    "73408da8d480539eed34034d92bda181"
   ]
  },
  {
   "cell_type": "markdown",
   "metadata": {},
   "source": [
    "## Genius"
   ]
  },
  {
   "cell_type": "code",
   "execution_count": 15,
   "metadata": {},
   "outputs": [],
   "source": [
    "import lyricsgenius\n",
    "genius = lyricsgenius.Genius(\"E2az4pjhy7fLmOVOQow3jiZ8C2SAmJ_OR8JOPGSRPZMugVHlIOROQQwt9WxE1FVO\")\n",
    "genius.remove_section_headers = True\n"
   ]
  },
  {
   "cell_type": "code",
   "execution_count": 18,
   "metadata": {},
   "outputs": [
    {
     "name": "stdout",
     "output_type": "stream",
     "text": [
      "Searching for songs by Sam Smith...\n",
      "\n",
      "Song 1: \"Aiye\"\n",
      "Song 2: \"A Little Melancholy\"\n",
      "Song 3: \"A Little Melancholy (Arbitraire Remix)\"\n",
      "Song 4: \"All This Madness\"\n",
      "Song 5: \"All This Madness (Genji Yoshida Remix Edit)\"\n",
      "Song 6: \"Another One\"\n",
      "Song 7: \"Baby, You Make Me Crazy\"\n",
      "Song 8: \"Baby, You Make Me Crazy (Friction Remix)\"\n",
      "Song 9: \"BACK ON TOP\"\n",
      "Song 10: \"Bad Day All Week\"\n",
      "Song 11: \"Bad Day All Week (Adrian Bahil Remix)\"\n",
      "Song 12: \"Before You Ask For Everything\"\n",
      "Song 13: \"Blind Eye\"\n",
      "\"Blood From a Stone\" is not valid. Skipping.\n",
      "\"Bluebird\" is not valid. Skipping.\n",
      "Song 14: \"Breaking Hearts\"\n",
      "Song 15: \"Burning\"\n",
      "Song 16: \"Chains\"\n",
      "Song 17: \"Dance (’Til You Love Someone Else)\"\n",
      "Couldn't find the lyrics section. Please report this if the song has lyrics.\n",
      "Song URL: https://genius.com/Vitamin-string-quartet-dancing-with-a-stranger-lyrics\n",
      "Song 18: \"Dancing With A Stranger\"\n",
      "Song 19: \"Dancing with a Stranger (Live at Abbey Road Studios)\"\n",
      "Song 20: \"Daniel\"\n",
      "\"Denier\" is not valid. Skipping.\n",
      "Song 21: \"Diamonds\"\n",
      "Song 22: \"Diamonds (Acoustic)\"\n",
      "Song 23: \"Diamonds (Joel Corry Remix)\"\n",
      "Song 24: \"Diamonds (Live at Abbey Road Studios)\"\n",
      "Song 25: \"Doctor Doctor\"\n",
      "Song 26: \"Do They Know It’s Christmas?\"\n",
      "Song 27: \"Drowning Shadows\"\n",
      "Song 28: \"Drunk Sober*\"\n",
      "Couldn't find the lyrics section. Please report this if the song has lyrics.\n",
      "Song URL: https://genius.com/Adameant-eternity-lyrics\n",
      "Song 29: \"Fast Car (Tracy Chapman cover)\"\n",
      "Song 30: \"Fire on Fire\"\n",
      "Song 31: \"Fix You (Live)\"\n",
      "\"Forgive Me\" is not valid. Skipping.\n",
      "Song 32: \"Forgive Myself\"\n",
      "Song 33: \"For The Lover That I Lost\"\n",
      "Song 34: \"For the Lover That I Lost (Live at Abbey Road Studios)\"\n",
      "Song 35: \"Freak\"\n",
      "Song 36: \"Get Happy\"\n",
      "Song 37: \"Get Here\"\n",
      "Song 38: \"Gloria\"\n",
      "Song 39: \"God Only Knows\"\n",
      "Song 40: \"Good Thing\"\n",
      "Song 41: \"Go (Sam Smith Remix)\"\n",
      "Song 42: \"Hand Over Fire\"\n",
      "Song 43: \"Hard to Ignore (These Nights)\"\n",
      "Song 44: \"Have to Drive\"\n",
      "\"Have Yourself a Merry Christmas- Instrumental\" is not valid. Skipping.\n",
      "Song 45: \"Have Yourself a Merry Little Christmas\"\n",
      "Song 46: \"Heart on My Sleeve\"\n",
      "Song 47: \"HIM\"\n",
      "Song 48: \"Hotline Bling\"\n",
      "Couldn't find the lyrics section. Please report this if the song has lyrics.\n",
      "Song URL: https://genius.com/Vitamin-string-quartet-how-do-you-sleep-lyrics\n",
      "Song 49: \"How Do You Sleep?\"\n",
      "Song 50: \"How Do You Sleep? (Acoustic)\"\n",
      "\n",
      "Reached user-specified song limit (50).\n",
      "Done. Found 50 songs.\n",
      "[Song(id, artist, ...), Song(id, artist, ...), Song(id, artist, ...), Song(id, artist, ...), Song(id, artist, ...), Song(id, artist, ...), Song(id, artist, ...), Song(id, artist, ...), Song(id, artist, ...), Song(id, artist, ...), Song(id, artist, ...), Song(id, artist, ...), Song(id, artist, ...), Song(id, artist, ...), Song(id, artist, ...), Song(id, artist, ...), Song(id, artist, ...), Song(id, artist, ...), Song(id, artist, ...), Song(id, artist, ...), Song(id, artist, ...), Song(id, artist, ...), Song(id, artist, ...), Song(id, artist, ...), Song(id, artist, ...), Song(id, artist, ...), Song(id, artist, ...), Song(id, artist, ...), Song(id, artist, ...), Song(id, artist, ...), Song(id, artist, ...), Song(id, artist, ...), Song(id, artist, ...), Song(id, artist, ...), Song(id, artist, ...), Song(id, artist, ...), Song(id, artist, ...), Song(id, artist, ...), Song(id, artist, ...), Song(id, artist, ...), Song(id, artist, ...), Song(id, artist, ...), Song(id, artist, ...), Song(id, artist, ...), Song(id, artist, ...), Song(id, artist, ...), Song(id, artist, ...), Song(id, artist, ...), Song(id, artist, ...), Song(id, artist, ...)]\n"
     ]
    }
   ],
   "source": [
    "artist = genius.search_artist(\"Sam Smith\", sort=\"title\", max_songs=50, include_features=True)\n",
    "print(artist.songs)"
   ]
  },
  {
   "cell_type": "code",
   "execution_count": 19,
   "metadata": {},
   "outputs": [
    {
     "name": "stdout",
     "output_type": "stream",
     "text": [
      "Wrote Lyrics_SamSmith.json.\n"
     ]
    }
   ],
   "source": [
    "artist.save_lyrics()\n"
   ]
  },
  {
   "cell_type": "code",
   "execution_count": 2,
   "metadata": {},
   "outputs": [
    {
     "name": "stdout",
     "output_type": "stream",
     "text": [
      "Searching for \"The Party\" by Andy Shauf...\n",
      "Wrote Lyrics_TheParty.json.\n"
     ]
    },
    {
     "data": {
      "text/plain": [
       "Album(id, artist, ...)"
      ]
     },
     "execution_count": 2,
     "metadata": {},
     "output_type": "execute_result"
    }
   ],
   "source": [
    "album = genius.search_album(\"The Party\", \"Andy Shauf\")\n",
    "album.save_lyrics()\n",
    "album"
   ]
  },
  {
   "cell_type": "markdown",
   "metadata": {},
   "source": [
    "## Musixmatch"
   ]
  },
  {
   "cell_type": "code",
   "execution_count": 13,
   "metadata": {},
   "outputs": [],
   "source": [
    "import musixmatch "
   ]
  },
  {
   "cell_type": "code",
   "execution_count": 14,
   "metadata": {},
   "outputs": [
    {
     "ename": "TypeError",
     "evalue": "'module' object is not callable",
     "output_type": "error",
     "traceback": [
      "\u001b[0;31m---------------------------------------------------------------------------\u001b[0m",
      "\u001b[0;31mTypeError\u001b[0m                                 Traceback (most recent call last)",
      "\u001b[1;32m/Users/katherinegarcia/Desktop/artifitialCreativity/newData.ipynb Cell 9\u001b[0m in \u001b[0;36m<module>\u001b[0;34m\u001b[0m\n\u001b[1;32m      <a href='vscode-notebook-cell:/Users/katherinegarcia/Desktop/artifitialCreativity/newData.ipynb#X11sZmlsZQ%3D%3D?line=0'>1</a>\u001b[0m apikey \u001b[39m=\u001b[39m \u001b[39m'\u001b[39m\u001b[39m73408da8d480539eed34034d92bda181\u001b[39m\u001b[39m'\u001b[39m\n\u001b[0;32m----> <a href='vscode-notebook-cell:/Users/katherinegarcia/Desktop/artifitialCreativity/newData.ipynb#X11sZmlsZQ%3D%3D?line=1'>2</a>\u001b[0m chart \u001b[39m=\u001b[39m musixmatch(apikey\u001b[39m=\u001b[39;49mapikey)\n",
      "\u001b[0;31mTypeError\u001b[0m: 'module' object is not callable"
     ]
    }
   ],
   "source": [
    "apikey = '73408da8d480539eed34034d92bda181'\n",
    "chart = musixmatch(apikey=apikey)\n"
   ]
  }
 ],
 "metadata": {
  "kernelspec": {
   "display_name": "Python 3.9.7 ('ml')",
   "language": "python",
   "name": "python3"
  },
  "language_info": {
   "codemirror_mode": {
    "name": "ipython",
    "version": 3
   },
   "file_extension": ".py",
   "mimetype": "text/x-python",
   "name": "python",
   "nbconvert_exporter": "python",
   "pygments_lexer": "ipython3",
   "version": "3.9.7"
  },
  "orig_nbformat": 4,
  "vscode": {
   "interpreter": {
    "hash": "34f0680f93e83a4a101ea3928db54ef43df704f0ed6210e5ae2b09f0ef086431"
   }
  }
 },
 "nbformat": 4,
 "nbformat_minor": 2
}
