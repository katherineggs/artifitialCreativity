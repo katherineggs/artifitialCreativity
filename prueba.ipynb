{
 "cells": [
  {
   "cell_type": "markdown",
   "metadata": {},
   "source": [
    " 1. Implementar un creador de letras de canciones utilizando rimas y haciendo que resulte en algo relativamente bien\n",
    " 2. Implementar el creador de letras en flask"
   ]
  },
  {
   "cell_type": "code",
   "execution_count": 28,
   "metadata": {},
   "outputs": [],
   "source": [
    "from Phyme import Phyme\n",
    "import pronouncing\n",
    "import random\n",
    "ph = Phyme()"
   ]
  },
  {
   "cell_type": "code",
   "execution_count": null,
   "metadata": {},
   "outputs": [],
   "source": [
    "pip install phyme\n",
    "\n",
    "from Phyme import Phyme\n",
    "ph = Phyme()\n",
    "ph.get_perfect_rhymes(\"the\")"
   ]
  },
  {
   "cell_type": "code",
   "execution_count": 4,
   "metadata": {},
   "outputs": [],
   "source": [
    "import random\n",
    "# def pick_matching(previousText, options):\n",
    "def pick_matching(previousText):\n",
    "  \"\"\"\n",
    "  Picks from a list of strings the best matching option for the given history_text\n",
    "  args:\n",
    "    previous_text(str): text that comes before given options.\n",
    "    options(list): list of words/phrases from which to pick one.\n",
    "  \n",
    "  returns:\n",
    "    str: choice from the list of options\n",
    "  \"\"\"\n",
    "\n",
    "  rhymeType = [1,2,3]\n",
    "  \n",
    "  previousTextList = previousText.split()\n",
    "  #Types of rhyme:\n",
    "  # 1. Stair-step rhyme: the final word of the first line of verse rhymes with the first word of the second line of verse.\n",
    "  #Rima encadenada en escalera: la palabra final del primer verso rima con la primer palabra del segundo verso.\n",
    "  print(previousTextList[0])\n",
    "  options =  ph.get_perfect_rhymes(previousTextList[0])\n",
    "\n",
    "\n",
    "\n",
    "  # 2. By repetition of the rhyme at the beginning of the following line of verse: The final word of the previous verse is repeated at the beginning.\n",
    "  #La última palabra del verso anterior se repite al principio.\n",
    "  \n",
    "\n",
    "  # 3. Twin rhyme: the rhyme is similar in two consecutive lines of verse; the last word of the first verse rhymes with the last word of the second verse\n",
    "  #la ultima palabra del primer verso rima con la ultima palabra del segundo verso\n",
    "  \n",
    "  return random.choice(options)"
   ]
  },
  {
   "cell_type": "code",
   "execution_count": 6,
   "metadata": {},
   "outputs": [
    {
     "name": "stdout",
     "output_type": "stream",
     "text": [
      "welcome\n"
     ]
    },
    {
     "ename": "NameError",
     "evalue": "name 'options' is not defined",
     "output_type": "error",
     "traceback": [
      "\u001b[0;31m---------------------------------------------------------------------------\u001b[0m",
      "\u001b[0;31mNameError\u001b[0m                                 Traceback (most recent call last)",
      "\u001b[1;32m/Users/andreareyes/Desktop/InteligenciaArtificial/prueba.ipynb Celda 4\u001b[0m in \u001b[0;36m<module>\u001b[0;34m\u001b[0m\n\u001b[0;32m----> <a href='vscode-notebook-cell:/Users/andreareyes/Desktop/InteligenciaArtificial/prueba.ipynb#X10sZmlsZQ%3D%3D?line=0'>1</a>\u001b[0m pick_matching(\u001b[39m\"\u001b[39;49m\u001b[39mwelcome to the jungle\u001b[39;49m\u001b[39m\"\u001b[39;49m)\n",
      "\u001b[1;32m/Users/andreareyes/Desktop/InteligenciaArtificial/prueba.ipynb Celda 4\u001b[0m in \u001b[0;36mpick_matching\u001b[0;34m(previousText)\u001b[0m\n\u001b[1;32m     <a href='vscode-notebook-cell:/Users/andreareyes/Desktop/InteligenciaArtificial/prueba.ipynb#X10sZmlsZQ%3D%3D?line=19'>20</a>\u001b[0m \u001b[39mprint\u001b[39m(previousTextList[\u001b[39m0\u001b[39m])\n\u001b[1;32m     <a href='vscode-notebook-cell:/Users/andreareyes/Desktop/InteligenciaArtificial/prueba.ipynb#X10sZmlsZQ%3D%3D?line=20'>21</a>\u001b[0m \u001b[39m# options =  ph.get_perfect_rhymes(previousTextList[0])\u001b[39;00m\n\u001b[1;32m     <a href='vscode-notebook-cell:/Users/andreareyes/Desktop/InteligenciaArtificial/prueba.ipynb#X10sZmlsZQ%3D%3D?line=21'>22</a>\u001b[0m \n\u001b[1;32m     <a href='vscode-notebook-cell:/Users/andreareyes/Desktop/InteligenciaArtificial/prueba.ipynb#X10sZmlsZQ%3D%3D?line=22'>23</a>\u001b[0m \n\u001b[0;32m   (...)\u001b[0m\n\u001b[1;32m     <a href='vscode-notebook-cell:/Users/andreareyes/Desktop/InteligenciaArtificial/prueba.ipynb#X10sZmlsZQ%3D%3D?line=28'>29</a>\u001b[0m \u001b[39m# 3. Twin rhyme: the rhyme is similar in two consecutive lines of verse; the last word of the first verse rhymes with the last word of the second verse\u001b[39;00m\n\u001b[1;32m     <a href='vscode-notebook-cell:/Users/andreareyes/Desktop/InteligenciaArtificial/prueba.ipynb#X10sZmlsZQ%3D%3D?line=29'>30</a>\u001b[0m \u001b[39m#la ultima palabra del primer verso rima con la ultima palabra del segundo verso\u001b[39;00m\n\u001b[0;32m---> <a href='vscode-notebook-cell:/Users/andreareyes/Desktop/InteligenciaArtificial/prueba.ipynb#X10sZmlsZQ%3D%3D?line=31'>32</a>\u001b[0m \u001b[39mreturn\u001b[39;00m random\u001b[39m.\u001b[39mchoice(options)\n",
      "\u001b[0;31mNameError\u001b[0m: name 'options' is not defined"
     ]
    }
   ],
   "source": [
    "pick_matching(\"welcome to the jungle\")"
   ]
  },
  {
   "cell_type": "code",
   "execution_count": 38,
   "metadata": {},
   "outputs": [
    {
     "data": {
      "text/plain": [
       "{3: ['andrea',\n",
       "  'brachia',\n",
       "  'brachia(1)',\n",
       "  \"d'andrea\",\n",
       "  'libya',\n",
       "  'licea',\n",
       "  'toria',\n",
       "  'tullia'],\n",
       " 4: ['abyssinia',\n",
       "  'atypia',\n",
       "  'cordelia',\n",
       "  'focaccia',\n",
       "  'insignia',\n",
       "  'jabaliya',\n",
       "  'liberia',\n",
       "  'poinsettia',\n",
       "  'scibilia',\n",
       "  'slovakia',\n",
       "  'valkyrie',\n",
       "  'viloria'],\n",
       " 5: ['anaesthesia',\n",
       "  'anesthesia',\n",
       "  'basophilia',\n",
       "  'confindustria',\n",
       "  'desmoplasia',\n",
       "  'echevarria',\n",
       "  'echeverria',\n",
       "  'echinacea',\n",
       "  'logophilia',\n",
       "  'wikipedia']}"
      ]
     },
     "execution_count": 38,
     "metadata": {},
     "output_type": "execute_result"
    }
   ],
   "source": [
    "ph.get_perfect_rhymes(\"andrea\")"
   ]
  },
  {
   "cell_type": "code",
   "execution_count": 8,
   "metadata": {},
   "outputs": [],
   "source": [
    "ph.get_family_rhymes(\"Above\")"
   ]
  },
  {
   "cell_type": "code",
   "execution_count": null,
   "metadata": {},
   "outputs": [],
   "source": [
    "def generate_text(previous_text):\n",
    "  \"\"\"\n",
    "  Generates coherent text given some previous text\n",
    "  args:\n",
    "    previous_text(str): text to be used for context of the new text\n",
    "  return:\n",
    "    str: new text, coherent with previous_text of a set size (8 words)\n",
    "  \"\"\"\n",
    "\n",
    "  return \"This is OBVIOUSLY custom text generated by the model, the size of this scentence cannot be changed.\""
   ]
  },
  {
   "cell_type": "code",
   "execution_count": 29,
   "metadata": {},
   "outputs": [],
   "source": [
    "def pick_matching(previous_text, options):\n",
    "  \"\"\"\n",
    "  Picks from a list of strings the best matching option for the given history_text\n",
    "  args:\n",
    "    previous_text(str): text that comes before given options.\n",
    "    options(list): list of words/phrases from which to pick one.\n",
    "  returns:\n",
    "    str: choice from the list of options\n",
    "  \"\"\"\n",
    "  \n",
    "  return random.choice(options)"
   ]
  },
  {
   "cell_type": "code",
   "execution_count": 41,
   "metadata": {},
   "outputs": [],
   "source": [
    "def generate_text(previous_text, lenght):\n",
    "  \"\"\"\n",
    "  Generates coherent text given some previous text\n",
    "  args:\n",
    "    previous_text(str): text to be used for context of the new text\n",
    "  return:\n",
    "    str: new text, coherent with previous_text of a set size (8 words)\n",
    "  \"\"\"\n",
    "  generated_text = \"Lorem ipsum dolor sit amet, consectetur adipiscing elit. Integer convallis nisi in magna tristique, sit amet vehicula libero dictum. Cras quis leo eu turpis aliquam tincidunt in a lectus. Duis feugiat quis tortor fermentum placerat. Pellentesque maximus ante nunc, ac pharetra dolor imperdiet et. Phasellus sit amet velit pharetra orci rutrum finibus. Maecenas aliquam venenatis dui, ut vehicula sapien sollicitudin in. Pellentesque porta vitae nibh id semper. Curabitur lacinia, velit.\"\n",
    "  return previous_text+' '+ ' '.join(generated_text.split()[:lenght])"
   ]
  },
  {
   "cell_type": "code",
   "execution_count": 42,
   "metadata": {},
   "outputs": [],
   "source": [
    "def generate_options(word):\n",
    "    options = pronouncing.rhymes(word)\n",
    "    return options"
   ]
  },
  {
   "cell_type": "code",
   "execution_count": null,
   "metadata": {},
   "outputs": [],
   "source": [
    "def choose_rhyme_type(previousText):\n",
    "    rhymeType = [1,2,3]\n",
    "  \n",
    "    previousTextList = previousText.split()\n",
    "    #Types of rhyme:\n",
    "    # 1. Stair-step rhyme: the final word of the first line of verse rhymes with the first word of the second line of verse.\n",
    "    #Rima encadenada en escalera: la palabra final del primer verso rima con la primer palabra del segundo verso.\n",
    "    print(previousTextList[0])\n",
    "    options =  ph.get_perfect_rhymes(previousTextList[0])\n",
    "\n",
    "\n",
    "\n",
    "    # 2. By repetition of the rhyme at the beginning of the following line of verse: The final word of the previous verse is repeated at the beginning.\n",
    "    #La última palabra del verso anterior se repite al principio.\n",
    "    \n",
    "\n",
    "    # 3. Twin rhyme: the rhyme is similar in two consecutive lines of verse; the last word of the first verse rhymes with the last word of the second verse\n",
    "    #la ultima palabra del primer verso rima con la ultima palabra del segundo verso\n",
    "    \n",
    "    pass"
   ]
  },
  {
   "cell_type": "code",
   "execution_count": 11,
   "metadata": {},
   "outputs": [
    {
     "data": {
      "text/plain": [
       "'leaves from the vine This is OBVIOUSLY custom text generated by the'"
      ]
     },
     "execution_count": 11,
     "metadata": {},
     "output_type": "execute_result"
    }
   ],
   "source": [
    "#prueba\n",
    "generate_text(\"leaves from the vine\", 8)"
   ]
  },
  {
   "cell_type": "markdown",
   "metadata": {},
   "source": [
    "usar generate_text usar el texto que devuelve : genero la oración\n",
    "agarro la ultima , genero 5 \n",
    "\n",
    "tipo de estructura yo \n",
    "genero la rima con pick matchong (escoge la mejor rima la palabra)\n",
    "\n",
    "1. input oracion/palabra\n",
    "2. escoger la estructura de rima que se usará\n",
    "3. genero nuevo texto \n",
    "3. generar las opciones de rima lista de rimas \n",
    "4. pick matching mejor opcion de la lista que yo le di\n",
    "6. incluirla en el texto generado "
   ]
  },
  {
   "cell_type": "code",
   "execution_count": 43,
   "metadata": {},
   "outputs": [],
   "source": [
    "def lyricsGenerator(textInput):\n",
    "\n",
    "    #estrofa (conjunto de versos)\n",
    "    estrofa = 4\n",
    "\n",
    "    #generate text based on input (verse 1)\n",
    "    verse1 = generate_text(textInput, 8)\n",
    "    print(\"verso 1\", verse1)\n",
    "    verse1List = verse1.split()\n",
    "\n",
    "    #generate text based on verse 1 (verse 2)\n",
    "    verse2 = generate_text(verse1, 8)\n",
    "    print(\"verso 2\", verse2)\n",
    "    verse2List = verse2.split()\n",
    "\n",
    "    #Types of rhyme:\n",
    "\n",
    "    # 1. Stair-step rhyme: the final word of the first line of verse rhymes with the first word of the second line of verse.\n",
    "    #Rima encadenada en escalera: la palabra final del primer verso rima con la primer palabra del segundo verso.\n",
    "    for i in range(estrofa):\n",
    "        #generate rhyme options \n",
    "        # print(verse1List[-1])\n",
    "        options = generate_options(verse1List[-1]) #esto depende del tipo de rima\n",
    "        # print(\"lista rimas: \", options)\n",
    "\n",
    "        #pick best matching option (rhyme)\n",
    "        selected = pick_matching(verse1, options)\n",
    "        # print(\"picker: \", selected)\n",
    "\n",
    "        #insert the rhyme in second verse\n",
    "        verse2List.insert(0, selected)\n",
    "\n",
    "    nuevoverso = ' '.join(verse2List)\n",
    "\n",
    "\n",
    "    # 2. By repetition of the rhyme at the beginning of the following line of verse: The final word of the previous verse is repeated at the beginning.\n",
    "    #La última palabra del verso anterior se repite al principio.\n",
    "    for i in range(estrofa):\n",
    "        #generate rhyme options \n",
    "        # print(verse1List[-1])\n",
    "        word = generate_options(verse1List[-1]) #esto depende del tipo de rima\n",
    "        # print(\"lista rimas: \", options)\n",
    "\n",
    "        #insert the rhyme in second verse\n",
    "        verse2List.insert(0, word)\n",
    "\n",
    "    nuevoverso = ' '.join(verse2List)\n",
    "    \n",
    "\n",
    "    # 3. Twin rhyme: the rhyme is similar in two consecutive lines of verse; the last word of the first verse rhymes with the last word of the second verse\n",
    "    #la ultima palabra del primer verso rima con la ultima palabra del segundo verso\n",
    "    for i in range(estrofa):\n",
    "        #generate rhyme options \n",
    "        # print(verse1List[-1])\n",
    "        options = generate_options(verse1List[-1]) #esto depende del tipo de rima\n",
    "        # print(\"lista rimas: \", options)\n",
    "\n",
    "        #pick best matching option (rhyme)\n",
    "        selected = pick_matching(verse1, options)\n",
    "        # print(\"picker: \", selected)\n",
    "\n",
    "        #insert the rhyme in second verse\n",
    "        verse2List.append(selected)\n",
    "\n",
    "    nuevoverso = ' '.join(verse2List)\n",
    "    \n",
    "\n",
    "\n",
    "    return verse1 + \" \" + nuevoverso"
   ]
  },
  {
   "cell_type": "code",
   "execution_count": 44,
   "metadata": {},
   "outputs": [
    {
     "name": "stdout",
     "output_type": "stream",
     "text": [
      "verso 1 Had another talk about where it's going wrong Lorem ipsum dolor sit amet, consectetur adipiscing elit.\n",
      "verso 2 Had another talk about where it's going wrong Lorem ipsum dolor sit amet, consectetur adipiscing elit. Lorem ipsum dolor sit amet, consectetur adipiscing elit.\n",
      "elit.\n",
      "lista rimas:  []\n"
     ]
    },
    {
     "ename": "IndexError",
     "evalue": "list index out of range",
     "output_type": "error",
     "traceback": [
      "\u001b[0;31m---------------------------------------------------------------------------\u001b[0m",
      "\u001b[0;31mIndexError\u001b[0m                                Traceback (most recent call last)",
      "\u001b[1;32m/Users/andreareyes/Desktop/InteligenciaArtificial/prueba.ipynb Celda 16\u001b[0m in \u001b[0;36m<module>\u001b[0;34m\u001b[0m\n\u001b[0;32m----> <a href='vscode-notebook-cell:/Users/andreareyes/Desktop/InteligenciaArtificial/prueba.ipynb#X31sZmlsZQ%3D%3D?line=0'>1</a>\u001b[0m lyricsGenerator(\u001b[39m\"\u001b[39;49m\u001b[39mHad another talk about where it\u001b[39;49m\u001b[39m'\u001b[39;49m\u001b[39ms going wrong\u001b[39;49m\u001b[39m\"\u001b[39;49m)\n",
      "\u001b[1;32m/Users/andreareyes/Desktop/InteligenciaArtificial/prueba.ipynb Celda 16\u001b[0m in \u001b[0;36mlyricsGenerator\u001b[0;34m(textInput)\u001b[0m\n\u001b[1;32m     <a href='vscode-notebook-cell:/Users/andreareyes/Desktop/InteligenciaArtificial/prueba.ipynb#X31sZmlsZQ%3D%3D?line=20'>21</a>\u001b[0m \u001b[39mprint\u001b[39m(\u001b[39m\"\u001b[39m\u001b[39mlista rimas: \u001b[39m\u001b[39m\"\u001b[39m, options)\n\u001b[1;32m     <a href='vscode-notebook-cell:/Users/andreareyes/Desktop/InteligenciaArtificial/prueba.ipynb#X31sZmlsZQ%3D%3D?line=22'>23</a>\u001b[0m \u001b[39m#pick best matching option (rhyme)\u001b[39;00m\n\u001b[0;32m---> <a href='vscode-notebook-cell:/Users/andreareyes/Desktop/InteligenciaArtificial/prueba.ipynb#X31sZmlsZQ%3D%3D?line=23'>24</a>\u001b[0m selected \u001b[39m=\u001b[39m pick_matching(verse1, options)\n\u001b[1;32m     <a href='vscode-notebook-cell:/Users/andreareyes/Desktop/InteligenciaArtificial/prueba.ipynb#X31sZmlsZQ%3D%3D?line=24'>25</a>\u001b[0m \u001b[39mprint\u001b[39m(\u001b[39m\"\u001b[39m\u001b[39mpicker: \u001b[39m\u001b[39m\"\u001b[39m, selected)\n\u001b[1;32m     <a href='vscode-notebook-cell:/Users/andreareyes/Desktop/InteligenciaArtificial/prueba.ipynb#X31sZmlsZQ%3D%3D?line=27'>28</a>\u001b[0m \u001b[39m#insert the rhyme in second verse\u001b[39;00m\n",
      "\u001b[1;32m/Users/andreareyes/Desktop/InteligenciaArtificial/prueba.ipynb Celda 16\u001b[0m in \u001b[0;36mpick_matching\u001b[0;34m(previous_text, options)\u001b[0m\n\u001b[1;32m      <a href='vscode-notebook-cell:/Users/andreareyes/Desktop/InteligenciaArtificial/prueba.ipynb#X31sZmlsZQ%3D%3D?line=0'>1</a>\u001b[0m \u001b[39mdef\u001b[39;00m \u001b[39mpick_matching\u001b[39m(previous_text, options):\n\u001b[1;32m      <a href='vscode-notebook-cell:/Users/andreareyes/Desktop/InteligenciaArtificial/prueba.ipynb#X31sZmlsZQ%3D%3D?line=1'>2</a>\u001b[0m   \u001b[39m\"\"\"\u001b[39;00m\n\u001b[1;32m      <a href='vscode-notebook-cell:/Users/andreareyes/Desktop/InteligenciaArtificial/prueba.ipynb#X31sZmlsZQ%3D%3D?line=2'>3</a>\u001b[0m \u001b[39m  Picks from a list of strings the best matching option for the given history_text\u001b[39;00m\n\u001b[1;32m      <a href='vscode-notebook-cell:/Users/andreareyes/Desktop/InteligenciaArtificial/prueba.ipynb#X31sZmlsZQ%3D%3D?line=3'>4</a>\u001b[0m \u001b[39m  args:\u001b[39;00m\n\u001b[0;32m   (...)\u001b[0m\n\u001b[1;32m      <a href='vscode-notebook-cell:/Users/andreareyes/Desktop/InteligenciaArtificial/prueba.ipynb#X31sZmlsZQ%3D%3D?line=7'>8</a>\u001b[0m \u001b[39m    str: choice from the list of options\u001b[39;00m\n\u001b[1;32m      <a href='vscode-notebook-cell:/Users/andreareyes/Desktop/InteligenciaArtificial/prueba.ipynb#X31sZmlsZQ%3D%3D?line=8'>9</a>\u001b[0m \u001b[39m  \"\"\"\u001b[39;00m\n\u001b[0;32m---> <a href='vscode-notebook-cell:/Users/andreareyes/Desktop/InteligenciaArtificial/prueba.ipynb#X31sZmlsZQ%3D%3D?line=10'>11</a>\u001b[0m   \u001b[39mreturn\u001b[39;00m random\u001b[39m.\u001b[39;49mchoice(options)\n",
      "File \u001b[0;32m~/Applications/anaconda3/envs/ml/lib/python3.9/random.py:346\u001b[0m, in \u001b[0;36mRandom.choice\u001b[0;34m(self, seq)\u001b[0m\n\u001b[1;32m    344\u001b[0m \u001b[39m\"\"\"Choose a random element from a non-empty sequence.\"\"\"\u001b[39;00m\n\u001b[1;32m    345\u001b[0m \u001b[39m# raises IndexError if seq is empty\u001b[39;00m\n\u001b[0;32m--> 346\u001b[0m \u001b[39mreturn\u001b[39;00m seq[\u001b[39mself\u001b[39;49m\u001b[39m.\u001b[39;49m_randbelow(\u001b[39mlen\u001b[39;49m(seq))]\n",
      "\u001b[0;31mIndexError\u001b[0m: list index out of range"
     ]
    }
   ],
   "source": [
    "lyricsGenerator(\"Had another talk about where it's going wrong\")"
   ]
  },
  {
   "cell_type": "code",
   "execution_count": 35,
   "metadata": {},
   "outputs": [
    {
     "data": {
      "text/plain": [
       "[]"
      ]
     },
     "execution_count": 35,
     "metadata": {},
     "output_type": "execute_result"
    }
   ],
   "source": [
    "import pronouncing\n",
    "pronouncing.rhymes(\"the\")"
   ]
  }
 ],
 "metadata": {
  "kernelspec": {
   "display_name": "Python 3.8.8 ('base')",
   "language": "python",
   "name": "python3"
  },
  "language_info": {
   "codemirror_mode": {
    "name": "ipython",
    "version": 3
   },
   "file_extension": ".py",
   "mimetype": "text/x-python",
   "name": "python",
   "nbconvert_exporter": "python",
   "pygments_lexer": "ipython3",
   "version": "3.8.8"
  },
  "orig_nbformat": 4,
  "vscode": {
   "interpreter": {
    "hash": "d94c1f73a58e90ee80d460cbc9ce8fbd1c7ad7f0ec4d5384ae0f55890aa19e84"
   }
  }
 },
 "nbformat": 4,
 "nbformat_minor": 2
}
